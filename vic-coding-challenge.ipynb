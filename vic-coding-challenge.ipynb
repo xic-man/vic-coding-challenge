{
  "nbformat": 4,
  "nbformat_minor": 0,
  "metadata": {
    "colab": {
      "name": "vic-coding-challenge.ipynb",
      "provenance": [],
      "collapsed_sections": []
    },
    "kernelspec": {
      "name": "python3",
      "display_name": "Python 3"
    },
    "accelerator": "GPU"
  },
  "cells": [
    {
      "cell_type": "markdown",
      "metadata": {
        "id": "gN5MjtG4cbvO"
      },
      "source": [
        "Victorian Coding Challenge\n",
        "\n",
        "Git repository at https://github.com/xic-man/vic-coding-challenge\n",
        "\n",
        "Please read the README.md available at this repository for information on how to run this code\n",
        "\n",
        "Please email Xavier Cohen at COH0002@brunswick.vic.edu.au or Sandro Mortimer at MOR0034@brunswick.vic.edu.au if you have any difficulties"
      ]
    },
    {
      "cell_type": "markdown",
      "metadata": {
        "id": "xV6LQCIrb08m"
      },
      "source": [
        "Installs dependencies, code and model"
      ]
    },
    {
      "cell_type": "code",
      "metadata": {
        "id": "2Ni2kuY40uDD"
      },
      "source": [
        "!git clone https://github.com/xic-man/vic-coding-challenge > /dev/null 2>&1\n",
        "!mv vic-coding-challenge/* . > /dev/null 2>&1\n",
        "!pip install -r requirements.txt > /dev/null 2>&1\n",
        "!python ./download_model.py 774M > /dev/null 2>&1"
      ],
      "execution_count": null,
      "outputs": []
    },
    {
      "cell_type": "markdown",
      "metadata": {
        "id": "qQ5TRt73cAl8"
      },
      "source": [
        "Runs main script"
      ]
    },
    {
      "cell_type": "code",
      "metadata": {
        "id": "vnE1chpAk_mD"
      },
      "source": [
        "!python main.py"
      ],
      "execution_count": null,
      "outputs": []
    },
    {
      "cell_type": "markdown",
      "metadata": {
        "id": "19Td5IDvcTwr"
      },
      "source": [
        "Runs nvidia-smi to check gpu infomation"
      ]
    },
    {
      "cell_type": "code",
      "metadata": {
        "id": "UZx64zrdtj2T"
      },
      "source": [
        "!nvidia-smi"
      ],
      "execution_count": null,
      "outputs": []
    }
  ]
}